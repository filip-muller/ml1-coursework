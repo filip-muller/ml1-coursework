{
 "cells": [
  {
   "cell_type": "markdown",
   "id": "0cf75ab4-bd4d-4ec2-a708-74797dbfce44",
   "metadata": {},
   "source": [
    "# Úkol č. 2 - regrese\n",
    "\n",
    "* Termíny jsou uvedeny na [courses.fit.cvut.cz](https://courses.fit.cvut.cz/BI-ML1/homeworks/index.html).\n",
    "* Pokud odevzdáte úkol po prvním termínu ale před nejzazším termínem, budete penalizování -12 body, pozdější odevzdání je bez bodu.\n",
    "* V rámci tohoto úkolu se musíte vypořádat s regresní úlohou, s příznaky různých typů a s chybějícími hodnotami.\n",
    "* Před tím, než na nich postavíte predikční model, je třeba je nějakým způsobem převést do číselné reprezentace.\n",
    "    \n",
    "> **Úkoly jsou zadány tak, aby Vám daly prostor pro invenci. Vymyslet _jak přesně_ budete úkol řešit, je důležitou součástí zadání a originalita či nápaditost bude také hodnocena!**\n",
    "\n",
    "Využívejte buňky typu `Markdown` k vysvětlování Vašeho postupu. Za nepřehlednost budeme strhávat body.\n",
    "\n",
    "## Zdroj dat\n",
    "\n",
    "Budeme se zabývat predikcí délky dožití v různých zemích a letech.\n",
    "K dispozici máte trénovací data v souboru `data.csv` a data na vyhodnocení v souboru `evaluation.csv`.\n",
    "\n",
    "#### Seznam příznaků:\n",
    "\n",
    "* Year - Rok\n",
    "* Status - Status rozvinuté nebo rozvojové země\n",
    "* Life expectancy - Délka dožití v letech - **cílová proměnná, kterou budete predikovat**\n",
    "* Adult Mortality - Úmrtnost dospělých bez ohledu na pohlaví (pravděpodobnost, že osoby, které dosáhly věku 15 let, zemřou před dosažením věku 60 let (uvedeno na 1 000 osob)).\n",
    "* infant deaths - počet zemřelých kojenců na 1000 obyvatel\n",
    "* Alcohol - Alkohol, zaznamenaná spotřeba na obyvatele (15+) (v litrech čistého alkoholu)\n",
    "* percentage expenditure - Výdaje na zdravotnictví v procentech hrubého domácího produktu na obyvatele (%)\n",
    "* Hepatitis B - pokrytí očkováním proti hepatitidě B (HepB) u dětí ve věku 1 roku (%)\n",
    "* Measles - Spalničky - počet hlášených případů na 1000 obyvatel\n",
    "* BMI - průměrný index tělesné hmotnosti celé populace\n",
    "* under-five deaths - počet úmrtí dětí do pěti let na 1000 obyvatel\n",
    "* Polio - proočkovanost proti dětské obrně (Pol3) u dětí ve věku 1 roku (%)\n",
    "* Total expenditure - Výdaje vládních institucí na zdravotnictví jako procento celkových vládních výdajů (%)\n",
    "* Diphtheria - pokrytí očkováním proti záškrtu, tetanu a černému kašli (DTP3) u jednoletých dětí (%)\n",
    "* HIV/AIDS - počet úmrtí na 1 000 živě narozených dětí na HIV/AIDS (0-4 roky)\n",
    "* GDP - hrubý domácí produkt na obyvatele (v USD)\n",
    "* Population - počet obyvatel země\n",
    "* thinness 1-19 years - podíl dětí ve věku 10-19 let s indexem tělesné hmotnosti (BMI) menším než 2 směrodatné odchylky pod mediánem (%)\n",
    "* thinness 5-9 years - podíl dětí ve věku 5-9 let s indexem tělesné hmotnosti (BMI) menším než 2 směrodatné odchylky pod mediánem (%)\n",
    "* Income composition of resources - Index lidského rozvoje z hlediska příjmového složení zdrojů (index v rozmezí 0 až 1)\n",
    "* Schooling - počet let školní docházky (roky)\n",
    "\n",
    "\n",
    "## Pokyny k vypracování\n",
    "\n",
    "**Body zadání**, za jejichž (poctivé) vypracování získáte **25 bodů**: \n",
    "  * V notebooku načtěte data ze souboru `data.csv`. Vhodným způsobem si je rozdělte na podmnožiny, které Vám poslouží pro trénování (trénovací), porovnávání modelů (validační) a následnou predikci výkonnosti finálního modelu (testovací).\n",
    "    \n",
    "  * Proveďte základní předzpracování dat:\n",
    "    * Projděte si jednotlivé příznaky a transformujte je do vhodné podoby pro použití ve vybraném regresním modelu.\n",
    "    * Nějakým způsobem se vypořádejte s chybějícími hodnotami. _Pozor na metodické chyby!_\n",
    "    * Můžete využívat i vizualizace. Vše stručně ale náležitě komentujte.\n",
    "<br /><br />\n",
    "  * Vytvořte **vlastní implementaci náhodného lesa**. Použijte k tomu níže předpřipravenou kostru.\n",
    "  \n",
    "  * Na připravená data postupně aplikujte Vaši předchozí implementaci modelu náhodného lesa, dále jeden z modelů **lineární regrese** nebo **hřebenové regrese**, a alespoň jeden další model podle Vašeho uvážení, přičemž pro každý z těchto modelů přiměřeně:\n",
    "    * Okomentujte vhodnost daného modelu pro daný typ úlohy.\n",
    "    * Experimentujte s normalizací (standardizace/min-max), pokud pro daný model očekáváte její příznivý vliv.\n",
    "    * Vyberte si hlavní hyperparametry k ladění a najděte jejich nejlepší hodnoty (vzhledem k RMSE).\n",
    "    * Pro model s nejlepšími hodnotami hyperparametrů určete jeho chybu pomocí RMSE a MAE. _Pozor na metodické chyby!_\n",
    "    * Získané výsledky vždy řádně okomentujte.\n",
    "<br /><br />\n",
    "  * Ze všech zkoušených možností v předchozím kroku vyberte finální model a odhadněte, jakou chybu (RMSE) můžete očekávat na nových datech, která jste doposud neměli k dispozici. _Pozor na metodické chyby!_\n",
    "    \n",
    "  * Nakonec načtěte vyhodnocovací data ze souboru `evaluation.csv`. Pomocí finálního modelu napočítejte predikce pro tato data. Vytvořte soubor `results.csv`, ve kterém získané predikce uložíte s využitím tří sloupců: **Country**, **Year** a **Life expectancy**. Tento soubor též odevzdejte (uložte do repozitáře vedle notebooku).\n",
    "\n",
    "  * Ukázka prvních řádků souboru `results.csv`:\n",
    "  \n",
    "```\n",
    "Country,Year,Life expectancy\n",
    "Peru,2012,71.4\n",
    "Peru,2013,72.6\n",
    "...\n",
    "```\n",
    "\n",
    "\n",
    "## Poznámky k odevzdání\n",
    "\n",
    "  * Řiďte se pokyny ze stránky https://courses.fit.cvut.cz/BI-ML1/homeworks/index.html."
   ]
  },
  {
   "cell_type": "markdown",
   "id": "500ac57f",
   "metadata": {},
   "source": [
    "## Příprava dat"
   ]
  },
  {
   "cell_type": "markdown",
   "id": "071d7657",
   "metadata": {},
   "source": [
    "### Rozdělení dat na testovácí, validační a trénovací\n",
    "\n",
    "Data reprezentují vývoj v čase podle let. Mohlo by tedy stát za zvážení, zda je namísto náhodného rozdělení nerozdělit podle času. Ze zadání však není zřejmé, jestli budeme predikovat pouze budoucí data, nebo i historická. Vzhledem k obecně rostoucí délce dožití by takovéto rozdělení mohlo vést k výběru modelu, který by systematicky predikoval vyšší hodnoty. To by se zároveň neprojevilo v odhadu přesnosti na testovací množině, která by jakožto poslední v časové řadě měla nejspíše nejvyšší hodnoty predikované proměnné. Náš odhad přesnosti na nových datech by tak mohl být systematicky špatný. Raději tedy zůstaneme u náhodného rozdělení dat v bežném poměru 60:20:20."
   ]
  },
  {
   "cell_type": "code",
   "execution_count": 427,
   "id": "5e52a7b0",
   "metadata": {},
   "outputs": [],
   "source": [
    "import pandas as pd\n",
    "from sklearn.model_selection import train_test_split\n",
    "\n",
    "pd.options.display.float_format = '{:.3f}'.format\n",
    "\n",
    "RANDOM_STATE = 42\n",
    "\n",
    "\n",
    "all_data = pd.read_csv(\"data.csv\")\n",
    "\n",
    "x_data = all_data.drop(\"Life expectancy\", axis=1)\n",
    "y_data = all_data[\"Life expectancy\"]\n",
    "del all_data\n",
    "\n",
    "x_train_raw, x_test_raw, y_train, y_test = train_test_split(x_data, y_data, test_size=0.4, random_state=RANDOM_STATE)\n",
    "x_val_raw, x_test_raw, y_val, y_test = train_test_split(x_test_raw, y_test, test_size=0.5, random_state=RANDOM_STATE)\n",
    "\n",
    "# Abychom se vyvarovali metodických chyb, další analýza bude probíhat\n",
    "# pouze s daty z trénovací množiny. Pro stručnost je nazveme data.\n",
    "train_data = pd.concat((x_train_raw, y_train), axis=1)\n",
    "data = train_data\n"
   ]
  },
  {
   "cell_type": "markdown",
   "id": "c2388931",
   "metadata": {},
   "source": [
    "### Odebrání sloupců\n",
    "Na první pohled jsou v datech dvě dvojice velice podobných sloupců: infant deaths s under-five deaths a thinness 1-19 years s thinness 5-9 years. Obě dvojice budou nejspíš skoro linearní závislé, což znamená dvě věci. Zaprvé obsahují prakticky stejnou informaci, tudíž odebráním jednoho ze sloupců z každé dvojice prakticky o nic nepřijdeme a snížíme dimenzi datasetu. Zadruhé se nám skoro lineárně závislé příznaky nehodí pro metodu lineární regrese.\n",
    "\n",
    "Zdůrazněme, že proměnná `data` v následujících úryvcích kódu vždy obsahuje pouze množinu trénovacích dat."
   ]
  },
  {
   "cell_type": "code",
   "execution_count": 428,
   "id": "4c72486a",
   "metadata": {},
   "outputs": [
    {
     "name": "stdout",
     "output_type": "stream",
     "text": [
      "korelace infant deaths a under-five deaths: 0.995\n",
      "korelace thinness  1-19 years a thinness 5-9 years: 0.949\n"
     ]
    }
   ],
   "source": [
    "corr_young_death = data.drop([\"Country\", \"Status\"], axis=1).corr().abs()[\"infant deaths\"][\"under-five deaths\"]\n",
    "print(\"korelace infant deaths a under-five deaths: %.3f\" % corr_young_death)\n",
    "\n",
    "corr_thinness = data.drop([\"Country\", \"Status\"], axis=1).corr().abs()[\"thinness  1-19 years\"][\"thinness 5-9 years\"]\n",
    "print(\"korelace thinness  1-19 years a thinness 5-9 years: %.3f\" % corr_thinness)"
   ]
  },
  {
   "cell_type": "markdown",
   "id": "6d2f9fd1",
   "metadata": {},
   "source": [
    "Korelace je velmi vysoká, což ověřuje naši úvahu. Odebereme tedy z každé dvojice sloupec s menším množstvím informace - pro úmrtí odebereme sloupec s kojenci, jelikož jsou obsaženy v úmrtí do pěti let. Ze stejné logiky odebereme sloupce thinness 5-9 years."
   ]
  },
  {
   "cell_type": "code",
   "execution_count": 330,
   "id": "80a28507",
   "metadata": {},
   "outputs": [],
   "source": [
    "COLUMNS_TO_DROP = [\"infant deaths\", \"under-five deaths\"]"
   ]
  },
  {
   "cell_type": "markdown",
   "id": "4609efda",
   "metadata": {},
   "source": [
    "Dále musíme rozhodnout co se sloupcem Country. Nabývá 183 různých hodnot. To je opravdu hodně na to použít one-hot encoding. Zároveň to ani tak nejsou všechny státy světa, tudíž náš model musí umět predikovat i státy, které nejsou v trénovacích datech. Dále jsou některé jména států poněkud nestandardní (např. The former Yugoslav republic of Macedonia). Nedokážeme tedy ani jednoduše zajistit, že se nám nová státy v nových datech (např. North Macedonia) podaří napárovat na stará data. Z těchto důvodů sloupec Country také odebereme."
   ]
  },
  {
   "cell_type": "code",
   "execution_count": 331,
   "id": "24540753",
   "metadata": {},
   "outputs": [],
   "source": [
    "COLUMNS_TO_DROP.append(\"Country\")"
   ]
  },
  {
   "cell_type": "markdown",
   "id": "8087aa55",
   "metadata": {},
   "source": [
    "### Chybějící hodnoty\n",
    "\n",
    "Vidíme, že chybějících hodnot je v datasetu poměrně hodně. Vzhledem k tomu, že data se z principu výrazně liší na základě státu, mohlo by být poněkud hrubé nahradit chybějící hodnoty mediány přes celý dataset. Budeme tedy nahrazovat hodnoty mediány pro daný stát tam, kde jsme pro stát z trénovacích dat schopni medián spočítat. Tam, kde toho nejsme schopni (protože daný stát v trénovací množině nemáme, nebo ve všech jeho záznamech pro danou hodnotu chybí), použijeme medián ze států, které mají stejný Status (Developing nebo Developed)."
   ]
  },
  {
   "cell_type": "markdown",
   "id": "f5a6a397",
   "metadata": {},
   "source": [
    "Připravíme si dataframe `country_medians`, v kterém si spočítáme medián daného příznaku pro data trénovací množiny dle států. Ten následně budeme používat k doplnění chybějících hodnot. Medián nebudeme počítat pro příznaky Status a Year, pro které to moc nedává smysl a jejichž hodnoty v datasetu nechybí."
   ]
  },
  {
   "cell_type": "code",
   "execution_count": 332,
   "id": "b4ee9ca2",
   "metadata": {},
   "outputs": [
    {
     "name": "stdout",
     "output_type": "stream",
     "text": [
      "             Adult Mortality  infant deaths  Alcohol  percentage expenditure  \\\n",
      "Country                                                                        \n",
      "Afghanistan          284.000         78.500    0.010                  21.523   \n",
      "Albania               18.000          1.000    5.140                 221.843   \n",
      "\n",
      "             Hepatitis B  Measles    BMI  under-five deaths  Polio  \\\n",
      "Country                                                              \n",
      "Afghanistan       64.500 1794.000 15.950            108.000 58.000   \n",
      "Albania           98.000    8.000 53.500              1.000 98.000   \n",
      "\n",
      "             Total expenditure  Diphtheria  HIV/AIDS      GDP  Population  \\\n",
      "Country                                                                     \n",
      "Afghanistan              8.265      62.500     0.100  322.962 2806299.000   \n",
      "Albania                  6.000      98.000     0.100 2416.588  291321.000   \n",
      "\n",
      "             thinness  1-19 years  thinness 5-9 years  \\\n",
      "Country                                                 \n",
      "Afghanistan                18.300              18.300   \n",
      "Albania                     1.500               1.600   \n",
      "\n",
      "             Income composition of resources  Schooling  Life expectancy  \n",
      "Country                                                                   \n",
      "Afghanistan                            0.433      8.800           58.350  \n",
      "Albania                                0.721     12.200           76.100  \n"
     ]
    }
   ],
   "source": [
    "grouped = data.drop([\"Status\", \"Year\"], axis=1).groupby(\"Country\")\n",
    "country_medians = grouped.median()\n",
    "print(country_medians.head(2))"
   ]
  },
  {
   "cell_type": "markdown",
   "id": "dd1ec749",
   "metadata": {},
   "source": [
    "Následně připravíme mediány přes všechny rozvojové a rozvinuté země."
   ]
  },
  {
   "cell_type": "code",
   "execution_count": 333,
   "id": "b4b2a5f1",
   "metadata": {},
   "outputs": [
    {
     "name": "stdout",
     "output_type": "stream",
     "text": [
      "   Adult Mortality  infant deaths  Alcohol  percentage expenditure  \\\n",
      "0          161.000          6.000    2.830                  49.589   \n",
      "1           72.000          0.000   10.400                1127.010   \n",
      "\n",
      "   Hepatitis B  Measles    BMI  under-five deaths  Polio  Total expenditure  \\\n",
      "0       91.000   20.000 35.000              8.000 89.000              5.410   \n",
      "1       95.000   15.000 57.150              0.000 96.000              7.980   \n",
      "\n",
      "   Diphtheria  HIV/AIDS       GDP  Population  thinness  1-19 years  \\\n",
      "0      89.000     0.100  1242.954 1381599.000                 4.800   \n",
      "1      96.000     0.100 14961.568 1628571.500                 1.000   \n",
      "\n",
      "   thinness 5-9 years  Income composition of resources  Schooling  \\\n",
      "0               4.800                            0.637     11.700   \n",
      "1               1.000                            0.865     15.900   \n",
      "\n",
      "   Life expectancy  \n",
      "0           69.300  \n",
      "1           79.200  \n",
      "Mediánová školní docházka v rozvinutých zemích: 15.900\n"
     ]
    }
   ],
   "source": [
    "developing_medians = data[data[\"Status\"] == \"Developing\"].drop([\"Country\", \"Status\", \"Year\"], axis=1).median()\n",
    "developed_medians = data[data[\"Status\"] == \"Developed\"].drop([\"Country\", \"Status\", \"Year\"], axis=1).median()\n",
    "\n",
    "# status_medians na indexu 0 obsahuje data pro rozvojove zeme a na indexu 1 pro rozvinute\n",
    "status_medians = pd.concat([developing_medians, developed_medians], axis=1).transpose()\n",
    "print(status_medians)\n",
    "\n",
    "# napr medianova hodnota Schooling v rozvinutych zemich je:\n",
    "print(\"Mediánová školní docházka v rozvinutých zemích: %.3f\" % status_medians.iloc[1][\"Schooling\"])"
   ]
  },
  {
   "cell_type": "markdown",
   "id": "0e272a45",
   "metadata": {},
   "source": [
    "Metoda pro nahrazení chybějích hodnot bude následující:"
   ]
  },
  {
   "cell_type": "code",
   "execution_count": 334,
   "id": "3fa373b0",
   "metadata": {},
   "outputs": [],
   "source": [
    "def fillna_data(data):\n",
    "    \"\"\"Nahradi chybejici hodnoty v datech\"\"\"\n",
    "\n",
    "    def fillna_row(row: pd.Series):\n",
    "        \"\"\"Nahradi chybejici hodnoty v danem radku z dat\"\"\"\n",
    "        country = row[\"Country\"]\n",
    "        # pokud mame data pro tento stat, naplnime jejich median\n",
    "        if country in country_medians:\n",
    "            row.fillna(country_medians.loc[country], inplace=True)\n",
    "        # co se nepovedlo nahradit pomoci statu (nektere maji treba jen nan),\n",
    "        # to naplnime pomoci medianu zemi se stejnym statusem\n",
    "        developed = int(row[\"Developed\"])\n",
    "        row.fillna(status_medians.loc[developed], inplace=True)\n",
    "        return row\n",
    "\n",
    "    return data.apply(fillna_row, axis=1)"
   ]
  },
  {
   "cell_type": "markdown",
   "id": "4a6067a2",
   "metadata": {},
   "source": [
    "### Převod Statusu na binární příznak\n",
    "Na konec se vypořádáme s řetězcovým příznakem Status. Ten může nabývat pouze dvou hodnot - \"Developing\" a \"Developed\". Převedeme ho tedy na binární příznak Developed, který bude 0 pro \"Developing\" a 1 pro \"Developed\"."
   ]
  },
  {
   "cell_type": "markdown",
   "id": "d9ef7176",
   "metadata": {},
   "source": [
    "Výsledná metoda pro předzpracování dat je tedy následující:"
   ]
  },
  {
   "cell_type": "code",
   "execution_count": 335,
   "id": "9822f0bb",
   "metadata": {},
   "outputs": [],
   "source": [
    "def preprocess_data(data: pd.DataFrame):\n",
    "    # Prevod Statusu na binarni priznak\n",
    "    data[\"Developed\"] = data[\"Status\"] == \"Developed\"\n",
    "    data.drop(\"Status\", axis=1, inplace=True)\n",
    "\n",
    "    # Doplneni chybejicich hodnot metodou odvozenou vyse\n",
    "    data = fillna_data(data)\n",
    "\n",
    "    # Odebrani sloupcu viz diskuze vyse\n",
    "    data = data.drop(COLUMNS_TO_DROP, axis=1)\n",
    "\n",
    "    return data"
   ]
  },
  {
   "cell_type": "markdown",
   "id": "842a50c4",
   "metadata": {},
   "source": [
    "Výsledek aplikování této metody na trénovací data uložíme do souboru `processed_train_data.csv` (jen pro ukázku)."
   ]
  },
  {
   "cell_type": "code",
   "execution_count": 336,
   "id": "5bef663a",
   "metadata": {},
   "outputs": [],
   "source": [
    "processed_data = preprocess_data(data)\n",
    "processed_data.to_csv(\"processed_train_data.csv\")"
   ]
  },
  {
   "cell_type": "markdown",
   "id": "008de41b",
   "metadata": {},
   "source": [
    "Zkontrolujeme, že jsme nahradili všechny chybějící hodnoty a že je dataset upraven tak, jak jsme si představovali."
   ]
  },
  {
   "cell_type": "code",
   "execution_count": 337,
   "id": "7314429c",
   "metadata": {},
   "outputs": [
    {
     "name": "stdout",
     "output_type": "stream",
     "text": [
      "chybejicich hodnot celkem: 0\n",
      "     Year  Adult Mortality  Alcohol  percentage expenditure  Hepatitis B  \\\n",
      "207  2010           16.000    8.410                 154.963       86.000   \n",
      "\n",
      "     Measles   BMI  Polio  Total expenditure  Diphtheria  HIV/AIDS      GDP  \\\n",
      "207        0 5.700  9.000              6.170      86.000     0.100 1595.912   \n",
      "\n",
      "     Population  thinness  1-19 years  thinness 5-9 years  \\\n",
      "207 1381599.000                 3.800               3.800   \n",
      "\n",
      "     Income composition of resources  Schooling  Life expectancy  Developed  \n",
      "207                            0.781     15.800           74.700      False  \n"
     ]
    }
   ],
   "source": [
    "print(\"chybejicich hodnot celkem:\", processed_data.isna().sum().sum())\n",
    "print(processed_data.head(1))"
   ]
  },
  {
   "cell_type": "markdown",
   "id": "3bdf1aba",
   "metadata": {},
   "source": [
    "Vše vypadá správně, aplikujeme tedy zpracování dat i na validační a testovací data. (`x_train` zde získáme pomocí aplikování metody na původní `x_train_raw`, ale stejně tak by stačilo dropnout sloupec s vysvětlovanou proměnnou z `processed_data`.)"
   ]
  },
  {
   "cell_type": "code",
   "execution_count": 338,
   "id": "40d30212",
   "metadata": {},
   "outputs": [],
   "source": [
    "x_train = preprocess_data(x_train_raw)\n",
    "x_val = preprocess_data(x_val_raw)\n",
    "x_test = preprocess_data(x_test_raw)\n",
    "\n",
    "assert x_train.equals(processed_data.drop(\"Life expectancy\", axis=1))"
   ]
  },
  {
   "cell_type": "markdown",
   "id": "da66f493",
   "metadata": {},
   "source": [
    "## Trénování modelů"
   ]
  },
  {
   "cell_type": "markdown",
   "id": "e723de53",
   "metadata": {},
   "source": [
    "### Náhodný les"
   ]
  },
  {
   "cell_type": "markdown",
   "id": "23fac7f2",
   "metadata": {},
   "source": [
    "Náhodný les má oproti stromu tu výhodu, že je jeho rozhodování více diverzifikované díky různým stromům trénovaným na různých částech dat. Pro regresi tak může průměr odhadů všech stromů být stabilnější a přesnější než odhad jednoho samotného stromu.\n",
    "\n",
    "Nejdříve dle zadání musíme naimplmenetovat třídu reprezentující model náhodného lesa."
   ]
  },
  {
   "cell_type": "code",
   "execution_count": 368,
   "id": "a8bb9e52",
   "metadata": {},
   "outputs": [],
   "source": [
    "from typing import List\n",
    "\n",
    "import numpy as np\n",
    "import pandas as pd\n",
    "from sklearn.tree import DecisionTreeRegressor\n",
    "\n",
    "\n",
    "########################################################\n",
    "# Předpřipravená kostra modelu náhodného lesa\n",
    "class CustomRandomForest:\n",
    "    \"\"\"\n",
    "    Třída Vašeho modelu\n",
    "    Bude se jednat o model náhodného lesa, kde podmodely tvoří rozhodovací stromy pro regresi.\n",
    "    Pro podmodely můžete použít implementaci DecisionTreeRegressor ze sklearn.\n",
    "    \"\"\"\n",
    "\n",
    "    def __init__(self, n_estimators, max_samples, max_depth, **kwargs):\n",
    "        \"\"\"\n",
    "        Konstruktor modelu\n",
    "        Základní hyperparametery:\n",
    "            n_estimators - počet podmodelů - rozhodovacích stromů.\n",
    "            max_samples - tento parametr označuje relativní počet bodů (tj. číslo mezi 0 a 1), které budou pro každý\n",
    "                          podmodel rozhodovacího stromu náhodně vybrány z trénovací množiny (bootstrap) a použity k jeho trénování.\n",
    "            max_depth - maximální hloubka každého z podmodelů rozhodovacího stromu.\n",
    "            kwargs - (volitelně) případné další hyperparametry, které pošlete do podmodelů rozhodovacího stromu\n",
    "        \"\"\"\n",
    "        if not isinstance(max_samples, float):\n",
    "            raise ValueError(\"max_sample musi byt zlomek\")\n",
    "\n",
    "        kwargs[\"max_depth\"] = max_depth\n",
    "\n",
    "        self.trees: List[DecisionTreeRegressor] = [\n",
    "            DecisionTreeRegressor(**kwargs) for _ in range(n_estimators)\n",
    "        ]\n",
    "        self.max_samples = max_samples\n",
    "\n",
    "        # Respektujeme nastaveni random statu i pro nas vyber dat pro stromy\n",
    "        random_seed = kwargs.get(\"random_state\", None)\n",
    "        self.random: np.random.Generator = np.random.default_rng(random_seed)\n",
    "\n",
    "    def fit(self, X: pd.DataFrame, y: pd.DataFrame):\n",
    "        \"\"\"\n",
    "        Natrénování modelu. Trénovací data jsou v argumentech X a y.\n",
    "        Pro trénování podmodelů používejte bootstraping a velikost samplovaného vzorku vezměte z hyperparametru max_samples\n",
    "        \"\"\"\n",
    "        for tree in self.trees:\n",
    "            X_sample, y_sample = self._get_bootstrap_sample(X, y)\n",
    "            tree.fit(X_sample, y_sample)\n",
    "\n",
    "    def predict(self, X: pd.DataFrame):\n",
    "        \"\"\"\n",
    "        Predikce y v zadaných bodech X\n",
    "        \"\"\"\n",
    "        ypredicted = np.zeros((X.shape[0],))\n",
    "        for tree in self.trees:\n",
    "            # secteme odhady vsech stromu\n",
    "            ypredicted += tree.predict(X)\n",
    "\n",
    "        # vezmeme prumer odhadu jednotlivych stromu\n",
    "        ypredicted /= len(self.trees)\n",
    "        return ypredicted\n",
    "\n",
    "    def _get_bootstrap_sample(self, X: pd.DataFrame, y: pd.DataFrame):\n",
    "        \"\"\"\n",
    "        Vybere z dat bootstrapem data pro trenovani jednotlivych stromu\n",
    "        \"\"\"\n",
    "        row_count = X.shape[0]\n",
    "        sample_size = round(row_count * self.max_samples)\n",
    "        sample_indices = self.random.choice(row_count, sample_size, replace=True)\n",
    "        X_sample = X.iloc[sample_indices]\n",
    "        y_sample = y.iloc[sample_indices]\n",
    "        return (X_sample, y_sample)"
   ]
  },
  {
   "cell_type": "markdown",
   "id": "214474dd",
   "metadata": {},
   "source": [
    "Následně les nátrenujeme na testovacích datech. Ladit budeme hyperparametry `n_estimators`, `max_depth` a `max_samples`, tedy počet stromů v lese, maximální hloubka jednotlivých stromů a velikost vzorku dat, který se má použít pro trénování jednotlivých stromů."
   ]
  },
  {
   "cell_type": "code",
   "execution_count": 340,
   "id": "398d89c9",
   "metadata": {},
   "outputs": [
    {
     "name": "stdout",
     "output_type": "stream",
     "text": [
      "Celkem mame 980 kombinaci parametru\n"
     ]
    }
   ],
   "source": [
    "from sklearn.model_selection import ParameterGrid\n",
    "from sklearn import metrics\n",
    "\n",
    "param_dict = {\n",
    "    \"n_estimators\": range(2, 30, 2),\n",
    "    \"max_depth\": range(1, 15),\n",
    "    \"max_samples\": [0.3, 0.5, 0.7, 0.9, 1.0],\n",
    "}\n",
    "\n",
    "param_grid = ParameterGrid(param_dict)\n",
    "\n",
    "print(f\"Celkem mame {len(param_grid)} kombinaci parametru\")\n",
    "\n",
    "forest_results = []\n",
    "for params in param_grid:\n",
    "    model = CustomRandomForest(**params, random_state=RANDOM_STATE)\n",
    "    model.fit(x_train, y_train)\n",
    "    rmse = metrics.mean_squared_error(y_val, model.predict(x_val), squared=False)\n",
    "    forest_results.append((rmse, params, model))\n",
    "\n",
    "forest_results.sort(key=lambda x: x[0])"
   ]
  },
  {
   "cell_type": "code",
   "execution_count": 341,
   "id": "6f50e28c",
   "metadata": {},
   "outputs": [
    {
     "name": "stdout",
     "output_type": "stream",
     "text": [
      "RMSE=2.251\n",
      "MAE=1.431\n",
      "Best forest params: {'max_depth': 14, 'max_samples': 1.0, 'n_estimators': 16}\n"
     ]
    }
   ],
   "source": [
    "best_forest_result = forest_results[0]\n",
    "best_forest_rmse, best_forest_params, best_forest_model = best_forest_result\n",
    "\n",
    "print(f\"RMSE={best_forest_rmse:.3f}\")\n",
    "best_forest_mae = metrics.mean_absolute_error(y_val, best_forest_model.predict(x_val))\n",
    "print(f\"MAE={best_forest_mae:.3f}\")\n",
    "print(\"Best forest params:\", best_forest_params)"
   ]
  },
  {
   "cell_type": "markdown",
   "id": "c919b8de",
   "metadata": {},
   "source": [
    "Les s nejmenším RMSE na validační množině je les složený z 16 stromů maximálních hloubek 14, který pro každý strom používá pro trénování stejně datových řádků, jako je v celém datasetu. Na validační množině je jeho RMSE 2.251 a MAE 1.431."
   ]
  },
  {
   "cell_type": "markdown",
   "id": "10640acd",
   "metadata": {},
   "source": [
    "### Lineární regrese"
   ]
  },
  {
   "cell_type": "markdown",
   "id": "61fa7e8e",
   "metadata": {},
   "source": [
    "Linearní regrese předpokládá, že je vysvětlovaná proměnná lineárně závislá na příznacích. To v tomto případě nemusí být špatný předpoklad, lineární regrese je tedy na úlohu poměrně vhodná. Problémem pro ni jsou lineárně závislé, nebo skoro lineárně závislé příznaky, což jsme vyřešili již obecně při přípravě dat. Pro lineární regresi, narozdíl od hřebenové, neovlivní přesnost modelu normalizace příznaků, nemusíme se jí tedy zabývat. Pro jistotu, ověření a ze zvědavosti ji však vyzkoušíme. Jinak totiž stejně pro lineární regresi nemáme žádné hyperparametry k ladění."
   ]
  },
  {
   "cell_type": "code",
   "execution_count": 424,
   "id": "f222bb69",
   "metadata": {},
   "outputs": [],
   "source": [
    "from sklearn.linear_model import LinearRegression\n",
    "from sklearn.preprocessing import StandardScaler, MinMaxScaler\n",
    "\n",
    "\n",
    "standard_scaler = StandardScaler()\n",
    "x_train_standard_scaled = pd.DataFrame(\n",
    "    standard_scaler.fit_transform(x_train), index=x_train.index, columns=x_train.columns\n",
    ")\n",
    "x_val_standard_scaled = pd.DataFrame(\n",
    "    standard_scaler.transform(x_val), index=x_val.index, columns=x_val.columns\n",
    ")\n",
    "x_test_standard_scaled = pd.DataFrame(\n",
    "    standard_scaler.transform(x_test), index=x_test.index, columns=x_test.columns\n",
    ")\n",
    "\n",
    "min_max_scaler = MinMaxScaler()\n",
    "x_train_min_max_scaled = pd.DataFrame(\n",
    "    min_max_scaler.fit_transform(x_train), index=x_train.index, columns=x_train.columns\n",
    ")\n",
    "x_val_min_max_scaled = pd.DataFrame(\n",
    "    min_max_scaler.transform(x_val), index=x_val.index, columns=x_val.columns\n",
    ")\n",
    "x_test_min_max_scaled = pd.DataFrame(\n",
    "    min_max_scaler.transform(x_test), index=x_test.index, columns=x_test.columns\n",
    ")\n",
    "\n",
    "scales = {\n",
    "    \"None\": (x_train, x_val),\n",
    "    \"Standard\": (x_train_standard_scaled, x_val_standard_scaled),\n",
    "    \"MinMax\": (x_train_min_max_scaled, x_val_min_max_scaled),\n",
    "}\n",
    "\n",
    "linreg_results = []\n",
    "for scale, (x_train_scaled, x_val_scaled) in scales.items():\n",
    "    model = LinearRegression()\n",
    "    model.fit(x_train_scaled, y_train)\n",
    "    rmse = metrics.mean_squared_error(y_val, model.predict(x_val_scaled), squared=False)\n",
    "    linreg_results.append((rmse, scale, model))\n",
    "\n",
    "linreg_results.sort(key=lambda x: x[0])"
   ]
  },
  {
   "cell_type": "code",
   "execution_count": 425,
   "id": "38d8fc78",
   "metadata": {},
   "outputs": [
    {
     "name": "stdout",
     "output_type": "stream",
     "text": [
      "normalizace: None     - RMSE: 4.532494602863496\n",
      "normalizace: Standard - RMSE: 4.5324946028647695\n",
      "normalizace: MinMax   - RMSE: 4.53249460286477\n"
     ]
    }
   ],
   "source": [
    "# jen pro hezky vypis\n",
    "longest_scale_name = len(max(linreg_results, key=lambda x: len(x[1]))[1])\n",
    "for rmse, scale, _ in linreg_results:\n",
    "    print(f\"normalizace: {scale}{(longest_scale_name - len(scale)) * ' '} - RMSE: {rmse}\")"
   ]
  },
  {
   "cell_type": "markdown",
   "id": "e2deca68",
   "metadata": {},
   "source": [
    "Vidíme, že RMSE je pro všechny možnosti opravdu prakticky identické. Vybereme tedy model bez normalizace."
   ]
  },
  {
   "cell_type": "code",
   "execution_count": 327,
   "id": "9e17121b",
   "metadata": {},
   "outputs": [
    {
     "name": "stdout",
     "output_type": "stream",
     "text": [
      "RMSE=4.532\n",
      "MAE=3.318\n"
     ]
    }
   ],
   "source": [
    "linreg_rmse, _, linreg_model = linreg_results[0]\n",
    "\n",
    "print(f\"RMSE={linreg_rmse:.3f}\")\n",
    "linreg_mae = metrics.mean_absolute_error(y_val, linreg_model.predict(x_val))\n",
    "print(f\"MAE={linreg_mae:.3f}\")"
   ]
  },
  {
   "cell_type": "markdown",
   "id": "44dbb9c9",
   "metadata": {},
   "source": [
    "Lineární regrese má na validační množině RMSE 4.532 a MAE 3.318. Je tedy horší než náhodný les."
   ]
  },
  {
   "cell_type": "markdown",
   "id": "78676cc8",
   "metadata": {},
   "source": [
    "### AdaBoost\n",
    "\n",
    "AdaBoost je šikovný v tom, že je schopne se postupně zaměřit na datové body, které se mu zprvu nepodařilo dobře odhadnout. Toho využijeme v naší úloze a vyzkoušíme, jestli tento přístup bude efektivnější než přístup náhodného lesu. Pro AdaBoost (složený ze stromů potažmo lesů) stejně jako náhodný les a lineární regresi nemá normalizace příznaků význam, nebudeme se jí tedy zabývat."
   ]
  },
  {
   "cell_type": "markdown",
   "id": "627c1f75",
   "metadata": {},
   "source": [
    "#### AdaBoost se stromem"
   ]
  },
  {
   "cell_type": "code",
   "execution_count": 360,
   "id": "7d12368a",
   "metadata": {},
   "outputs": [],
   "source": [
    "from sklearn.ensemble import AdaBoostRegressor\n",
    "from sklearn.tree import DecisionTreeRegressor\n",
    "\n",
    "param_dict = {\n",
    "    \"n_estimators\": range(5, 100, 5),\n",
    "    \"learning_rate\": (0.5, 0.7, 1.0),\n",
    "    \"max_tree_depth\": range(1, 15, 2),\n",
    "}\n",
    "\n",
    "param_grid = ParameterGrid(param_dict)\n",
    "\n",
    "ada_boost_tree_results = []\n",
    "for params in param_grid:\n",
    "    max_depth = params.pop(\"max_tree_depth\")\n",
    "    estimator = DecisionTreeRegressor(max_depth=max_depth)\n",
    "    model = AdaBoostRegressor(estimator=estimator, **params, random_state=RANDOM_STATE)\n",
    "    model.fit(x_train, y_train)\n",
    "    rmse = metrics.mean_squared_error(y_val, model.predict(x_val), squared=False)\n",
    "    params[\"max_tree_depth\"] = max_depth\n",
    "    ada_boost_tree_results.append((rmse, params, model))\n",
    "\n",
    "ada_boost_tree_results.sort(key=lambda x: x[0])"
   ]
  },
  {
   "cell_type": "code",
   "execution_count": 387,
   "id": "30ffa463",
   "metadata": {},
   "outputs": [
    {
     "name": "stdout",
     "output_type": "stream",
     "text": [
      "RMSE=2.102\n",
      "MAE=1.217\n",
      "Best ada_boost_tree params: {'learning_rate': 1.0, 'n_estimators': 40, 'max_tree_depth': 13}\n"
     ]
    }
   ],
   "source": [
    "best_ada_boost_tree_result = ada_boost_tree_results[0]\n",
    "best_ada_boost_tree_rmse, best_ada_boost_tree_params, best_ada_boost_tree_model = best_ada_boost_tree_result\n",
    "\n",
    "print(f\"RMSE={best_ada_boost_tree_rmse:.3f}\")\n",
    "best_ada_boost_tree_mae = metrics.mean_absolute_error(y_val, best_ada_boost_tree_model.predict(x_val))\n",
    "print(f\"MAE={best_ada_boost_tree_mae:.3f}\")\n",
    "print(\"Best ada_boost_tree params:\", best_ada_boost_tree_params)"
   ]
  },
  {
   "cell_type": "markdown",
   "id": "8816d0cd",
   "metadata": {},
   "source": [
    "AdaBoost se stromy má na validční množině  RMSE 2.102, jeho MAE je 1.217. Je tedy zatím naším nejlepším modelem. Nejlepší hyperparametry jsou jedničkový learning rate, 40 stromů a maximální hloubka jednotlivého stromu 13."
   ]
  },
  {
   "cell_type": "markdown",
   "id": "5878a5ed",
   "metadata": {},
   "source": [
    "#### AdaBoost s lesem"
   ]
  },
  {
   "cell_type": "markdown",
   "id": "448651c0",
   "metadata": {},
   "source": [
    "Vyzkoušejme ještě použít AdaBoost s náhodným lesem ze scikitu (k použití vlastní implementace lesu by bohužel bylo potřeba dopsat spoustu technikálií). Jeho trénování bude kvůli dvojtému ensemblu extrémně výpočetně náročné a zdlouhavé. Značně tedy omezíme rozsah hyperparametrů, které budeme ladit a hyperparamatery pro náhodný les budeme volit okolo hodnot, které vycházely nejlépe při použití pouze jednoho lesu."
   ]
  },
  {
   "cell_type": "code",
   "execution_count": 394,
   "id": "a6927d41",
   "metadata": {},
   "outputs": [],
   "source": [
    "from sklearn.ensemble import RandomForestRegressor\n",
    "\n",
    "param_dict = {\n",
    "    \"n_estimators\": range(30, 70, 10),\n",
    "    \"learning_rate\": (0.9, 1.0,),\n",
    "    \"forest_max_depth\": (5, 12, 14, 16),\n",
    "    \"forest_max_samples\": (1.0,),\n",
    "    \"forest_n_estimators\": (16,),\n",
    "}\n",
    "\n",
    "param_grid = ParameterGrid(param_dict)\n",
    "\n",
    "ada_boost_forest_results = []\n",
    "for params in param_grid:\n",
    "    forest_params = {k.replace(\"forest_\", \"\"): v for k, v in params.items() if k.startswith(\"forest_\")}\n",
    "    estimator = RandomForestRegressor(**forest_params)\n",
    "    ada_params = {k: v for k, v in params.items() if not k.startswith(\"forest_\")}\n",
    "    model = AdaBoostRegressor(estimator=estimator, **ada_params, random_state=RANDOM_STATE)\n",
    "    model.fit(x_train, y_train)\n",
    "    rmse = metrics.mean_squared_error(y_val, model.predict(x_val), squared=False)\n",
    "    ada_boost_forest_results.append((rmse, params, model))\n",
    "\n",
    "ada_boost_forest_results.sort(key=lambda x: x[0])"
   ]
  },
  {
   "cell_type": "code",
   "execution_count": 398,
   "id": "19d72157",
   "metadata": {},
   "outputs": [
    {
     "name": "stdout",
     "output_type": "stream",
     "text": [
      "RMSE=2.206\n",
      "MAE=1.417\n",
      "Best ada_boost_forest params: {'forest_max_depth': 16, 'forest_max_samples': 1.0, 'forest_n_estimators': 16, 'learning_rate': 1.0, 'n_estimators': 60}\n"
     ]
    }
   ],
   "source": [
    "best_ada_boost_forest_result = ada_boost_forest_results[0]\n",
    "best_ada_boost_forest_rmse, best_ada_boost_forest_params, best_ada_boost_forest_model = best_ada_boost_forest_result\n",
    "\n",
    "print(f\"RMSE={best_ada_boost_forest_rmse:.3f}\")\n",
    "best_ada_boost_forest_mae = metrics.mean_absolute_error(y_val, best_ada_boost_forest_model.predict(x_val))\n",
    "print(f\"MAE={best_ada_boost_forest_mae:.3f}\")\n",
    "print(\"Best ada_boost_forest params:\", best_ada_boost_forest_params)"
   ]
  },
  {
   "cell_type": "markdown",
   "id": "287081a3",
   "metadata": {},
   "source": [
    "AdaBoost s náhodnými lesy má na validační množině RMSE 2.206 a MAE 1.417. Hyperparametrů jsme ho kvůli náročnosti trénování nenechali vyzkoušet mnoho, těmi nejlepšími z nich byly learning_rate 1.0, počet lesů 60 a hyperparametry lesu: 16 stromů, max_sample 1.0 a maximální hloubka jednotlivého stromu 16. Chyba RMSE AdaBoostu s lesy vyšla lepší než samotného náhodného lesu, ale horší než RMSE AdaBoostu se stromy."
   ]
  },
  {
   "cell_type": "markdown",
   "id": "edf9183d",
   "metadata": {},
   "source": [
    "## Finální vyhodnocení"
   ]
  },
  {
   "cell_type": "markdown",
   "id": "57c5bd87",
   "metadata": {},
   "source": [
    "### Volba výsledného modelu"
   ]
  },
  {
   "cell_type": "markdown",
   "id": "9ac0270b",
   "metadata": {},
   "source": [
    "Nejmenší RMSE na validačních datech měl AdaBoost se stromy s learning ratem 1.0, 40 stromy a maximální hloubkou stromu 13. Prohlásíme ho tedy za výsledný model, spočítáme jeho RMSE na testovacích datech a vypočteme predikce k odevzdání."
   ]
  },
  {
   "cell_type": "code",
   "execution_count": 396,
   "id": "4f88f9df",
   "metadata": {},
   "outputs": [
    {
     "name": "stdout",
     "output_type": "stream",
     "text": [
      "RMSE na testovacich datech: 1.896\n"
     ]
    }
   ],
   "source": [
    "best_model = best_ada_boost_tree_model\n",
    "\n",
    "best_model_rmse = metrics.mean_squared_error(y_test, best_model.predict(x_test), squared=False)\n",
    "\n",
    "print(\"RMSE na testovacich datech: %.3f\" % best_model_rmse)"
   ]
  },
  {
   "cell_type": "markdown",
   "id": "9d77055c",
   "metadata": {},
   "source": [
    "Od našeho finálního modelu můžeme na nových datech očekávat chybu RMSE=1.896, což je překvapivě o cca 10 % lepší než RMSE na validační množině."
   ]
  },
  {
   "cell_type": "markdown",
   "id": "95c8d72a",
   "metadata": {},
   "source": [
    "### Výpočet predikcí"
   ]
  },
  {
   "cell_type": "markdown",
   "id": "33505cdf",
   "metadata": {},
   "source": [
    "Na evaluační data aplikujeme na začátku vytvořenou funkci na předzpracování dat a pomocí nejlepšího modelu určíme predikce."
   ]
  },
  {
   "cell_type": "code",
   "execution_count": 412,
   "id": "179a5463",
   "metadata": {},
   "outputs": [],
   "source": [
    "evaluation_data_raw = pd.read_csv(\"evaluation.csv\")\n",
    "evaluation_data = preprocess_data(evaluation_data_raw)\n",
    "\n",
    "predictions = best_model.predict(evaluation_data)\n",
    "\n",
    "res = evaluation_data_raw.loc[:, [\"Country\", \"Year\"]]\n",
    "res[\"Life expectancy\"] = predictions\n",
    "\n",
    "res.to_csv(\"results.csv\", index=False)"
   ]
  }
 ],
 "metadata": {
  "kernelspec": {
   "display_name": "Python 3 (ipykernel)",
   "language": "python",
   "name": "python3"
  },
  "language_info": {
   "codemirror_mode": {
    "name": "ipython",
    "version": 3
   },
   "file_extension": ".py",
   "mimetype": "text/x-python",
   "name": "python",
   "nbconvert_exporter": "python",
   "pygments_lexer": "ipython3",
   "version": "3.8.10"
  }
 },
 "nbformat": 4,
 "nbformat_minor": 5
}
